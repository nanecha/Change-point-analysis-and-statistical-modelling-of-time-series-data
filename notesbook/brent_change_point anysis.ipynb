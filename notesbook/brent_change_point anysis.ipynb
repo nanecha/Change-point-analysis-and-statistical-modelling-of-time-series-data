{
 "cells": [
  {
   "cell_type": "markdown",
   "id": "5cb7f8b3",
   "metadata": {},
   "source": [
    "# Bayesian change point model"
   ]
  },
  {
   "cell_type": "code",
   "execution_count": null,
   "id": "9b2347db",
   "metadata": {},
   "outputs": [],
   "source": [
    "# import dependencies \n",
    "import pandas as pd\n",
    "import numpy as np\n",
    "import matplotlib.pyplot as plt\n",
    "import seaborn as sns\n",
    "import pymc as pm\n",
    "import arviz as az\n",
    "from datetime import datetime\n",
    "import warnings\n",
    "warnings.filterwarnings('ignore')\n",
    "import sys\n",
    "import os\n",
    "sys.path.append(os.path.abspath(os.path.join(os.getcwd(), '..')))\n",
    "  "
   ]
  },
  {
   "cell_type": "markdown",
   "id": "a547215d",
   "metadata": {},
   "source": [
    "## load the module"
   ]
  },
  {
   "cell_type": "code",
   "execution_count": null,
   "id": "13eb5fc5",
   "metadata": {},
   "outputs": [],
   "source": [
    "from src.brent_change_point_analysis import (load_and_prepare_data,exploratory_analysis,bayesian_change_point_model,interpret_model)"
   ]
  },
  {
   "cell_type": "markdown",
   "id": "16d5997b",
   "metadata": {},
   "source": [
    "## Load and prepare_data"
   ]
  },
  {
   "cell_type": "code",
   "execution_count": null,
   "metadata": {},
   "outputs": [],
   "source": [
    " # Load and prepare data\n",
    "price_data, event_data = load_and_prepare_data()\n",
    "print(\"Data loaded and prepared successfully.\")\n",
    "#to print the first few rows of the data\n",
    "print(\"Price Data:\")\n",
    "print(price_data.head())\n",
    "print(\"Event Data:\")\n",
    "print(event_data.head())\n",
    "\n",
    "    \n"
   ]
  },
  {
   "cell_type": "markdown",
   "id": "640ca3ad",
   "metadata": {},
   "source": [
    "## Exploratory Data Analysis"
   ]
  },
  {
   "cell_type": "code",
   "execution_count": null,
   "id": "9600f007",
   "metadata": {},
   "outputs": [],
   "source": [
    " # Perform EDA\n",
    "exploratory_analysis(price_data, event_data)\n",
    "    \n"
   ]
  },
  {
   "cell_type": "markdown",
   "id": "c3558ed3",
   "metadata": {},
   "source": [
    "## Bayesian change point model"
   ]
  },
  {
   "cell_type": "code",
   "execution_count": null,
   "id": "049460e3",
   "metadata": {},
   "outputs": [],
   "source": [
    "    # Run Bayesian change point model\n",
    "try:\n",
    "        trace, idx = bayesian_change_point_model(price_data)\n",
    "        \n",
    "        # Interpret results\n",
    "        change_point_date, insights, mu_1_mean, mu_2_mean, price_change, associated_events = interpret_model(trace, price_data, event_data)\n",
    "        \n",
    "        # Print insights\n",
    "        print(\"\\nChange Point Insights:\")\n",
    "        for insight in insights:\n",
    "            print(insight)\n",
    "        \n",
    "        # Plot price series with change point\n",
    "        plt.figure(figsize=(12, 6))\n",
    "        plt.plot(price_data.index, price_data['Brent_Price'], label='Brent Oil Price')\n",
    "        plt.axvline(x=change_point_date, color='g', linestyle='--', label=f'Change Point: {change_point_date.date()}')\n",
    "        for event_date in event_data['Start_Date']:\n",
    "            plt.axvline(x=event_date, color='r', linestyle='--', alpha=0.5, label='Events' if event_date == event_data['Start_Date'].iloc[0] else '')\n",
    "        plt.title('Brent Oil Prices with Detected Change Point')\n",
    "        plt.xlabel('Date')\n",
    "        plt.ylabel('Price (USD/bbl)')\n",
    "        plt.legend()\n",
    "        plt.savefig('brent_change_point.png')\n",
    "        plt.show()\n",
    "        \n",
    "        # Save results\n",
    "        results = pd.DataFrame({\n",
    "            'Change_Point_Date': [change_point_date],\n",
    "            'Mean_Before': [mu_1_mean],\n",
    "            'Mean_After': [mu_2_mean],\n",
    "            'Price_Change_Percent': [price_change],\n",
    "            'Associated_Events': [', '.join(associated_events['Event_Name'].tolist()) if not associated_events.empty else 'None']\n",
    "        })\n",
    "        results.to_csv('change_point_results.csv', index=False)\n",
    "        print(\"\\nResults saved to 'change_point_results.csv'\")\n",
    "    \n",
    "except Exception as e:\n",
    "        print(f\"Error in change point modeling: {e}\")\n",
    "        print(\"Note: The sample data is too short (10 days in 1987) for reliable change point detection. \"\n",
    "              \"Consider providing a longer time series (e.g., from EIA) covering 2010–2025 to align with events.\")\n"
   ]
  }
 ],
 "metadata": {
  "kernelspec": {
   "display_name": "venv",
   "language": "python",
   "name": "python3"
  },
  "language_info": {
   "codemirror_mode": {
    "name": "ipython",
    "version": 3
   },
   "file_extension": ".py",
   "mimetype": "text/x-python",
   "name": "python",
   "nbconvert_exporter": "python",
   "pygments_lexer": "ipython3",
   "version": "3.11.2"
  }
 },
 "nbformat": 4,
 "nbformat_minor": 5
}
